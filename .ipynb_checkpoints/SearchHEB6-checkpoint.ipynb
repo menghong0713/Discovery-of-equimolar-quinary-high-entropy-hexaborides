{
 "cells": [
  {
   "cell_type": "code",
   "execution_count": 12,
   "id": "735efaf6",
   "metadata": {},
   "outputs": [
    {
     "name": "stdout",
     "output_type": "stream",
     "text": [
      "Please input the file name, eg. ExperimentalHEB6.xlsx or PredictedHEB6.xlsxPredictedHEB6.xlsx\n",
      "Please input elements for HEB6 and make elements case sensitive,eg.BeMgCaSrLa,BeMgCaSrBa BeMgCaSrLa,BeMgCaSrBa\n"
     ]
    },
    {
     "data": {
      "text/html": [
       "<div>\n",
       "<style scoped>\n",
       "    .dataframe tbody tr th:only-of-type {\n",
       "        vertical-align: middle;\n",
       "    }\n",
       "\n",
       "    .dataframe tbody tr th {\n",
       "        vertical-align: top;\n",
       "    }\n",
       "\n",
       "    .dataframe thead th {\n",
       "        text-align: right;\n",
       "    }\n",
       "</style>\n",
       "<table border=\"1\" class=\"dataframe\">\n",
       "  <thead>\n",
       "    <tr style=\"text-align: right;\">\n",
       "      <th></th>\n",
       "      <th>Materials</th>\n",
       "      <th>Predicted</th>\n",
       "      <th>First ionization energy difference</th>\n",
       "      <th>Pauling electronegativity difference</th>\n",
       "      <th>Average lattice size</th>\n",
       "      <th>Lattice size difference</th>\n",
       "      <th>Fermi level difference</th>\n",
       "    </tr>\n",
       "  </thead>\n",
       "  <tbody>\n",
       "    <tr>\n",
       "      <th>0</th>\n",
       "      <td>(BeMgCaSrLa)B6</td>\n",
       "      <td>Single</td>\n",
       "      <td>20.832606</td>\n",
       "      <td>19.246459</td>\n",
       "      <td>4.1446</td>\n",
       "      <td>0.92829</td>\n",
       "      <td>34.997679</td>\n",
       "    </tr>\n",
       "    <tr>\n",
       "      <th>7005</th>\n",
       "      <td>(BeMgCaSrBa)B6</td>\n",
       "      <td>Multiple</td>\n",
       "      <td>22.111096</td>\n",
       "      <td>22.521934</td>\n",
       "      <td>4.1668</td>\n",
       "      <td>1.600258</td>\n",
       "      <td>8.536211</td>\n",
       "    </tr>\n",
       "  </tbody>\n",
       "</table>\n",
       "</div>"
      ],
      "text/plain": [
       "           Materials Predicted First ionization energy difference  \\\n",
       "0     (BeMgCaSrLa)B6    Single                          20.832606   \n",
       "7005  (BeMgCaSrBa)B6  Multiple                          22.111096   \n",
       "\n",
       "     Pauling electronegativity difference Average lattice size  \\\n",
       "0                               19.246459               4.1446   \n",
       "7005                            22.521934               4.1668   \n",
       "\n",
       "     Lattice size difference Fermi level difference  \n",
       "0                    0.92829              34.997679  \n",
       "7005                1.600258               8.536211  "
      ]
     },
     "execution_count": 12,
     "metadata": {},
     "output_type": "execute_result"
    }
   ],
   "source": [
    "import pandas as pd\n",
    "import re\n",
    "\n",
    "def extract_text_in_parentheses(text):\n",
    "    match = re.search(r'\\((.*?)\\)', text)\n",
    "    if match:\n",
    "        return match.group(1)\n",
    "    else:\n",
    "        return ''\n",
    "\n",
    "input_file = input(\"Please input the file name, eg. ExperimentalHEB6.xlsx or PredictedHEB6.xlsx\")\n",
    "df = pd.read_excel(input_file)\n",
    "materials = df.iloc[:, 0]\n",
    "materials_list = []\n",
    "for material in materials:\n",
    "    materials_i = extract_text_in_parentheses(material)\n",
    "    materials_list.append(materials_i)\n",
    "\n",
    "input_text = input(\"Please input elements for HEB6 and make elements case sensitive,eg.BeMgCaSrLa,BeMgCaSrBa \")\n",
    "elements_list = input_text.split(\",\")\n",
    "\n",
    "merged_df = pd.DataFrame()\n",
    "for i in range(len(elements_list)):\n",
    "    elements_list_i = re.findall('[A-Z][^A-Z]*', elements_list[i])\n",
    "    a = set(elements_list_i)\n",
    "    for j in range(len(materials_list)):\n",
    "        materials_list_i = re.findall('[A-Z][^A-Z]*', materials_list[j])\n",
    "        b = set(materials_list_i)\n",
    "        if a == b:\n",
    "            df_j = df.iloc[j, :]\n",
    "            merged_df = pd.concat([merged_df, df_j], axis=1)\n",
    "\n",
    "merged_df.T.to_excel('SearchResults.xlsx')\n",
    "\n",
    "merged_df.T\n"
   ]
  },
  {
   "cell_type": "code",
   "execution_count": null,
   "id": "bd340084",
   "metadata": {},
   "outputs": [],
   "source": []
  }
 ],
 "metadata": {
  "kernelspec": {
   "display_name": "Python 3",
   "language": "python",
   "name": "python3"
  },
  "language_info": {
   "codemirror_mode": {
    "name": "ipython",
    "version": 3
   },
   "file_extension": ".py",
   "mimetype": "text/x-python",
   "name": "python",
   "nbconvert_exporter": "python",
   "pygments_lexer": "ipython3",
   "version": "3.8.8"
  }
 },
 "nbformat": 4,
 "nbformat_minor": 5
}
