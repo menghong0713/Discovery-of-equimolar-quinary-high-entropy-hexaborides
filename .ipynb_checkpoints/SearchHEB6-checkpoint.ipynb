{
 "cells": [
  {
   "cell_type": "code",
   "execution_count": null,
   "id": "735efaf6",
   "metadata": {},
   "outputs": [],
   "source": [
    "import pandas as pd\n",
    "import re\n",
    "\n",
    "def extract_text_in_parentheses(text):\n",
    "    match = re.search(r'\\((.*?)\\)', text)\n",
    "    if match:\n",
    "        return match.group(1)\n",
    "    else:\n",
    "        return ''\n",
    "\n",
    "input_file = 'HEB6.csv'\n",
    "df = pd.read_csv(input_file)\n",
    "materials = df.iloc[:, 0]\n",
    "materials_list = []\n",
    "for material in materials:\n",
    "    materials_i = extract_text_in_parentheses(material)\n",
    "    materials_list.append(materials_i)\n",
    "\n",
    "input_text = input(\"Please input equimolar quinary HEB6 samples selected form Be, Mg, Ca, Sr, Ba, Sc, Y and lanthanides (excluding radioactive element), eg. CaSrYLaNd, MgCaYCeLu, BeMgCaSrLa,BeMgCaSrBa\")\n",
    "elements_list = input_text.split(\",\")\n",
    "\n",
    "merged_df = pd.DataFrame()\n",
    "for i in range(len(elements_list)):\n",
    "    elements_list_i = re.findall('[A-Z][^A-Z]*', elements_list[i])\n",
    "    a = set(elements_list_i)\n",
    "    for j in range(len(materials_list)):\n",
    "        materials_list_i = re.findall('[A-Z][^A-Z]*', materials_list[j])\n",
    "        b = set(materials_list_i)\n",
    "        if a == b:\n",
    "            df_j = df.iloc[j, :]\n",
    "            merged_df = pd.concat([merged_df, df_j], axis=1)\n",
    "\n",
    "merged_df.T\n"
   ]
  },
  {
   "cell_type": "code",
   "execution_count": null,
   "id": "bd340084",
   "metadata": {},
   "outputs": [],
   "source": []
  }
 ],
 "metadata": {
  "kernelspec": {
   "display_name": "Python 3",
   "language": "python",
   "name": "python3"
  },
  "language_info": {
   "codemirror_mode": {
    "name": "ipython",
    "version": 3
   },
   "file_extension": ".py",
   "mimetype": "text/x-python",
   "name": "python",
   "nbconvert_exporter": "python",
   "pygments_lexer": "ipython3",
   "version": "3.8.8"
  }
 },
 "nbformat": 4,
 "nbformat_minor": 5
}
